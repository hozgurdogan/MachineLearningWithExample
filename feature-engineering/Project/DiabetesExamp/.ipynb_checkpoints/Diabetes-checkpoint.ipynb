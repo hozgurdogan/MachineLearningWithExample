{
 "cells": [
  {
   "cell_type": "code",
   "execution_count": 33,
   "id": "ec68aac3-9ee3-4bcc-a051-63700652a2fe",
   "metadata": {},
   "outputs": [],
   "source": [
    "\n",
    "\n",
    "import numpy as np\n",
    "import pandas as pd\n",
    "import seaborn as sns\n",
    "from matplotlib import pyplot as plt\n",
    "# !pip install missingno\n",
    "import missingno as msno\n",
    "from datetime import date\n",
    "from sklearn.metrics import accuracy_score\n",
    "from sklearn.model_selection import train_test_split\n",
    "from sklearn.neighbors import LocalOutlierFactor\n",
    "from sklearn.preprocessing import MinMaxScaler, LabelEncoder, StandardScaler, RobustScaler\n",
    "import matplotlib.pyplot as plt\n",
    "\n",
    "pd.set_option('display.max_columns', None)\n",
    "pd.set_option('display.max_rows', None)\n",
    "pd.set_option('display.float_format', lambda x: '%.3f' % x)\n",
    "pd.set_option('display.width', 500)\n",
    "\n",
    "\n",
    "\n",
    "\n"
   ]
  },
  {
   "cell_type": "code",
   "execution_count": 34,
   "id": "4b1d61d3-cba1-4f2b-8b18-2413463197be",
   "metadata": {},
   "outputs": [
    {
     "data": {
      "text/html": [
       "<div>\n",
       "<style scoped>\n",
       "    .dataframe tbody tr th:only-of-type {\n",
       "        vertical-align: middle;\n",
       "    }\n",
       "\n",
       "    .dataframe tbody tr th {\n",
       "        vertical-align: top;\n",
       "    }\n",
       "\n",
       "    .dataframe thead th {\n",
       "        text-align: right;\n",
       "    }\n",
       "</style>\n",
       "<table border=\"1\" class=\"dataframe\">\n",
       "  <thead>\n",
       "    <tr style=\"text-align: right;\">\n",
       "      <th></th>\n",
       "      <th>Pregnancies</th>\n",
       "      <th>Glucose</th>\n",
       "      <th>BloodPressure</th>\n",
       "      <th>SkinThickness</th>\n",
       "      <th>Insulin</th>\n",
       "      <th>BMI</th>\n",
       "      <th>DiabetesPedigreeFunction</th>\n",
       "      <th>Age</th>\n",
       "      <th>Outcome</th>\n",
       "    </tr>\n",
       "  </thead>\n",
       "  <tbody>\n",
       "    <tr>\n",
       "      <th>0</th>\n",
       "      <td>6</td>\n",
       "      <td>148</td>\n",
       "      <td>72</td>\n",
       "      <td>35</td>\n",
       "      <td>0</td>\n",
       "      <td>33.600</td>\n",
       "      <td>0.627</td>\n",
       "      <td>50</td>\n",
       "      <td>1</td>\n",
       "    </tr>\n",
       "    <tr>\n",
       "      <th>1</th>\n",
       "      <td>1</td>\n",
       "      <td>85</td>\n",
       "      <td>66</td>\n",
       "      <td>29</td>\n",
       "      <td>0</td>\n",
       "      <td>26.600</td>\n",
       "      <td>0.351</td>\n",
       "      <td>31</td>\n",
       "      <td>0</td>\n",
       "    </tr>\n",
       "    <tr>\n",
       "      <th>2</th>\n",
       "      <td>8</td>\n",
       "      <td>183</td>\n",
       "      <td>64</td>\n",
       "      <td>0</td>\n",
       "      <td>0</td>\n",
       "      <td>23.300</td>\n",
       "      <td>0.672</td>\n",
       "      <td>32</td>\n",
       "      <td>1</td>\n",
       "    </tr>\n",
       "    <tr>\n",
       "      <th>3</th>\n",
       "      <td>1</td>\n",
       "      <td>89</td>\n",
       "      <td>66</td>\n",
       "      <td>23</td>\n",
       "      <td>94</td>\n",
       "      <td>28.100</td>\n",
       "      <td>0.167</td>\n",
       "      <td>21</td>\n",
       "      <td>0</td>\n",
       "    </tr>\n",
       "    <tr>\n",
       "      <th>4</th>\n",
       "      <td>0</td>\n",
       "      <td>137</td>\n",
       "      <td>40</td>\n",
       "      <td>35</td>\n",
       "      <td>168</td>\n",
       "      <td>43.100</td>\n",
       "      <td>2.288</td>\n",
       "      <td>33</td>\n",
       "      <td>1</td>\n",
       "    </tr>\n",
       "  </tbody>\n",
       "</table>\n",
       "</div>"
      ],
      "text/plain": [
       "   Pregnancies  Glucose  BloodPressure  SkinThickness  Insulin    BMI  DiabetesPedigreeFunction  Age  Outcome\n",
       "0            6      148             72             35        0 33.600                     0.627   50        1\n",
       "1            1       85             66             29        0 26.600                     0.351   31        0\n",
       "2            8      183             64              0        0 23.300                     0.672   32        1\n",
       "3            1       89             66             23       94 28.100                     0.167   21        0\n",
       "4            0      137             40             35      168 43.100                     2.288   33        1"
      ]
     },
     "execution_count": 34,
     "metadata": {},
     "output_type": "execute_result"
    }
   ],
   "source": [
    "\n",
    "\n",
    "def load():\n",
    "    data = pd.read_csv(\"../../datasets/diabetes.csv\")\n",
    "    return data\n",
    "\n",
    "\n",
    "df = load()\n",
    "df.head()\n",
    "\n",
    "\n"
   ]
  },
  {
   "cell_type": "code",
   "execution_count": 35,
   "id": "52460aba-3c3d-4667-b1b5-9a634bd95015",
   "metadata": {},
   "outputs": [
    {
     "data": {
      "text/plain": [
       "(768, 9)"
      ]
     },
     "execution_count": 35,
     "metadata": {},
     "output_type": "execute_result"
    }
   ],
   "source": [
    "df.shape"
   ]
  },
  {
   "cell_type": "code",
   "execution_count": 36,
   "id": "cbd48ab7-5c97-45db-ac5e-508a7e55adb8",
   "metadata": {},
   "outputs": [],
   "source": [
    "df.columns = [col.upper() for col in df.columns]"
   ]
  },
  {
   "cell_type": "code",
   "execution_count": 37,
   "id": "ecd5df19-760d-4090-b4cf-cc8b5dfce100",
   "metadata": {},
   "outputs": [
    {
     "data": {
      "text/html": [
       "<div>\n",
       "<style scoped>\n",
       "    .dataframe tbody tr th:only-of-type {\n",
       "        vertical-align: middle;\n",
       "    }\n",
       "\n",
       "    .dataframe tbody tr th {\n",
       "        vertical-align: top;\n",
       "    }\n",
       "\n",
       "    .dataframe thead th {\n",
       "        text-align: right;\n",
       "    }\n",
       "</style>\n",
       "<table border=\"1\" class=\"dataframe\">\n",
       "  <thead>\n",
       "    <tr style=\"text-align: right;\">\n",
       "      <th></th>\n",
       "      <th>PREGNANCIES</th>\n",
       "      <th>GLUCOSE</th>\n",
       "      <th>BLOODPRESSURE</th>\n",
       "      <th>SKINTHICKNESS</th>\n",
       "      <th>INSULIN</th>\n",
       "      <th>BMI</th>\n",
       "      <th>DIABETESPEDIGREEFUNCTION</th>\n",
       "      <th>AGE</th>\n",
       "      <th>OUTCOME</th>\n",
       "    </tr>\n",
       "  </thead>\n",
       "  <tbody>\n",
       "    <tr>\n",
       "      <th>0</th>\n",
       "      <td>6</td>\n",
       "      <td>148</td>\n",
       "      <td>72</td>\n",
       "      <td>35</td>\n",
       "      <td>0</td>\n",
       "      <td>33.600</td>\n",
       "      <td>0.627</td>\n",
       "      <td>50</td>\n",
       "      <td>1</td>\n",
       "    </tr>\n",
       "    <tr>\n",
       "      <th>1</th>\n",
       "      <td>1</td>\n",
       "      <td>85</td>\n",
       "      <td>66</td>\n",
       "      <td>29</td>\n",
       "      <td>0</td>\n",
       "      <td>26.600</td>\n",
       "      <td>0.351</td>\n",
       "      <td>31</td>\n",
       "      <td>0</td>\n",
       "    </tr>\n",
       "    <tr>\n",
       "      <th>2</th>\n",
       "      <td>8</td>\n",
       "      <td>183</td>\n",
       "      <td>64</td>\n",
       "      <td>0</td>\n",
       "      <td>0</td>\n",
       "      <td>23.300</td>\n",
       "      <td>0.672</td>\n",
       "      <td>32</td>\n",
       "      <td>1</td>\n",
       "    </tr>\n",
       "    <tr>\n",
       "      <th>3</th>\n",
       "      <td>1</td>\n",
       "      <td>89</td>\n",
       "      <td>66</td>\n",
       "      <td>23</td>\n",
       "      <td>94</td>\n",
       "      <td>28.100</td>\n",
       "      <td>0.167</td>\n",
       "      <td>21</td>\n",
       "      <td>0</td>\n",
       "    </tr>\n",
       "    <tr>\n",
       "      <th>4</th>\n",
       "      <td>0</td>\n",
       "      <td>137</td>\n",
       "      <td>40</td>\n",
       "      <td>35</td>\n",
       "      <td>168</td>\n",
       "      <td>43.100</td>\n",
       "      <td>2.288</td>\n",
       "      <td>33</td>\n",
       "      <td>1</td>\n",
       "    </tr>\n",
       "  </tbody>\n",
       "</table>\n",
       "</div>"
      ],
      "text/plain": [
       "   PREGNANCIES  GLUCOSE  BLOODPRESSURE  SKINTHICKNESS  INSULIN    BMI  DIABETESPEDIGREEFUNCTION  AGE  OUTCOME\n",
       "0            6      148             72             35        0 33.600                     0.627   50        1\n",
       "1            1       85             66             29        0 26.600                     0.351   31        0\n",
       "2            8      183             64              0        0 23.300                     0.672   32        1\n",
       "3            1       89             66             23       94 28.100                     0.167   21        0\n",
       "4            0      137             40             35      168 43.100                     2.288   33        1"
      ]
     },
     "execution_count": 37,
     "metadata": {},
     "output_type": "execute_result"
    }
   ],
   "source": [
    "df.head()"
   ]
  },
  {
   "cell_type": "code",
   "execution_count": 52,
   "id": "c4c7d642-a2c1-4442-b258-205910c9b3aa",
   "metadata": {},
   "outputs": [
    {
     "data": {
      "text/html": [
       "<div>\n",
       "<style scoped>\n",
       "    .dataframe tbody tr th:only-of-type {\n",
       "        vertical-align: middle;\n",
       "    }\n",
       "\n",
       "    .dataframe tbody tr th {\n",
       "        vertical-align: top;\n",
       "    }\n",
       "\n",
       "    .dataframe thead th {\n",
       "        text-align: right;\n",
       "    }\n",
       "</style>\n",
       "<table border=\"1\" class=\"dataframe\">\n",
       "  <thead>\n",
       "    <tr style=\"text-align: right;\">\n",
       "      <th></th>\n",
       "      <th>PREGNANCIES</th>\n",
       "      <th>GLUCOSE</th>\n",
       "      <th>BLOODPRESSURE</th>\n",
       "      <th>SKINTHICKNESS</th>\n",
       "      <th>INSULIN</th>\n",
       "      <th>BMI</th>\n",
       "      <th>DIABETESPEDIGREEFUNCTION</th>\n",
       "      <th>AGE</th>\n",
       "      <th>OUTCOME</th>\n",
       "      <th>NEW_AGE_CAT</th>\n",
       "      <th>BMI_KATEGORI</th>\n",
       "    </tr>\n",
       "  </thead>\n",
       "  <tbody>\n",
       "    <tr>\n",
       "      <th>0</th>\n",
       "      <td>6.000</td>\n",
       "      <td>148.000</td>\n",
       "      <td>72</td>\n",
       "      <td>35</td>\n",
       "      <td>0.000</td>\n",
       "      <td>33.600</td>\n",
       "      <td>0.627</td>\n",
       "      <td>50.000</td>\n",
       "      <td>1</td>\n",
       "      <td>mature</td>\n",
       "      <td>Obez</td>\n",
       "    </tr>\n",
       "    <tr>\n",
       "      <th>1</th>\n",
       "      <td>1.000</td>\n",
       "      <td>85.000</td>\n",
       "      <td>66</td>\n",
       "      <td>29</td>\n",
       "      <td>0.000</td>\n",
       "      <td>26.600</td>\n",
       "      <td>0.351</td>\n",
       "      <td>31.000</td>\n",
       "      <td>0</td>\n",
       "      <td>mature</td>\n",
       "      <td>Şişman</td>\n",
       "    </tr>\n",
       "    <tr>\n",
       "      <th>2</th>\n",
       "      <td>8.000</td>\n",
       "      <td>183.000</td>\n",
       "      <td>64</td>\n",
       "      <td>0</td>\n",
       "      <td>0.000</td>\n",
       "      <td>23.300</td>\n",
       "      <td>0.672</td>\n",
       "      <td>32.000</td>\n",
       "      <td>1</td>\n",
       "      <td>mature</td>\n",
       "      <td>Sağlıklı</td>\n",
       "    </tr>\n",
       "    <tr>\n",
       "      <th>3</th>\n",
       "      <td>1.000</td>\n",
       "      <td>89.000</td>\n",
       "      <td>66</td>\n",
       "      <td>23</td>\n",
       "      <td>94.000</td>\n",
       "      <td>28.100</td>\n",
       "      <td>0.167</td>\n",
       "      <td>21.000</td>\n",
       "      <td>0</td>\n",
       "      <td>mature</td>\n",
       "      <td>Şişman</td>\n",
       "    </tr>\n",
       "    <tr>\n",
       "      <th>4</th>\n",
       "      <td>0.000</td>\n",
       "      <td>137.000</td>\n",
       "      <td>40</td>\n",
       "      <td>35</td>\n",
       "      <td>168.000</td>\n",
       "      <td>43.100</td>\n",
       "      <td>1.200</td>\n",
       "      <td>33.000</td>\n",
       "      <td>1</td>\n",
       "      <td>mature</td>\n",
       "      <td>Aşırı Obez</td>\n",
       "    </tr>\n",
       "  </tbody>\n",
       "</table>\n",
       "</div>"
      ],
      "text/plain": [
       "   PREGNANCIES  GLUCOSE  BLOODPRESSURE  SKINTHICKNESS  INSULIN    BMI  DIABETESPEDIGREEFUNCTION    AGE  OUTCOME NEW_AGE_CAT BMI_KATEGORI\n",
       "0        6.000  148.000             72             35    0.000 33.600                     0.627 50.000        1      mature         Obez\n",
       "1        1.000   85.000             66             29    0.000 26.600                     0.351 31.000        0      mature       Şişman\n",
       "2        8.000  183.000             64              0    0.000 23.300                     0.672 32.000        1      mature     Sağlıklı\n",
       "3        1.000   89.000             66             23   94.000 28.100                     0.167 21.000        0      mature       Şişman\n",
       "4        0.000  137.000             40             35  168.000 43.100                     1.200 33.000        1      mature   Aşırı Obez"
      ]
     },
     "execution_count": 52,
     "metadata": {},
     "output_type": "execute_result"
    }
   ],
   "source": [
    "df.loc[(df['AGE']<18),'NEW_AGE_CAT'] ='young'\n",
    "df.loc[(df['AGE'] >= 18) & (df['AGE'] < 56), 'NEW_AGE_CAT'] = 'mature'\n",
    "df.loc[df['AGE'] >= 56, 'NEW_AGE_CAT'] = 'senior'\n",
    "# BMI kategorilerini oluştur\n",
    "df.loc[(df['BMI'] < 18.5), 'BMI_KATEGORI'] = 'Zayıf'\n",
    "df.loc[(df['BMI'] >= 18.5) & (df['BMI'] < 25), 'BMI_KATEGORI'] = 'Sağlıklı'  # 24.9 yerine 25 kullanarak sorunu çözebilirsiniz.\n",
    "df.loc[(df['BMI'] >= 25) & (df['BMI'] < 30), 'BMI_KATEGORI'] = 'Şişman'\n",
    "df.loc[(df['BMI'] >= 30) & (df['BMI'] < 40), 'BMI_KATEGORI'] = 'Obez'\n",
    "df.loc[df['BMI'] >= 40, 'BMI_KATEGORI'] = 'Aşırı Obez'\n",
    "\n",
    "\n",
    "# Sonucu görüntüle\n",
    "df.head()"
   ]
  },
  {
   "cell_type": "code",
   "execution_count": 53,
   "id": "7987db7c-cf19-4d7a-8c7f-8dfc3c0c1414",
   "metadata": {},
   "outputs": [
    {
     "name": "stdout",
     "output_type": "stream",
     "text": [
      "Observations: 768\n",
      "Variables: 11\n",
      "cat_cols: 3\n",
      "num_cols: 8\n",
      "cat_but_car: 0\n",
      "num_but_cat: 1\n"
     ]
    }
   ],
   "source": [
    "\n",
    "def grab_col_names(dataframe, cat_th=10, car_th=20):\n",
    "    \"\"\"\n",
    "\n",
    "    Veri setindeki kategorik, numerik ve kategorik fakat kardinal değişkenlerin isimlerini verir.\n",
    "    Not: Kategorik değişkenlerin içerisine numerik görünümlü kategorik değişkenler de dahildir.\n",
    "\n",
    "    Parameters\n",
    "    ------\n",
    "        dataframe: dataframe\n",
    "                Değişken isimleri alınmak istenilen dataframe\n",
    "        cat_th: int, optional\n",
    "                numerik fakat kategorik olan değişkenler için sınıf eşik değeri\n",
    "        car_th: int, optinal\n",
    "                kategorik fakat kardinal değişkenler için sınıf eşik değeri\n",
    "\n",
    "    Returns\n",
    "    ------\n",
    "        cat_cols: list\n",
    "                Kategorik değişken listesi\n",
    "        num_cols: list\n",
    "                Numerik değişken listesi\n",
    "        cat_but_car: list\n",
    "                Kategorik görünümlü kardinal değişken listesi\n",
    "\n",
    "    Examples\n",
    "    ------\n",
    "        import seaborn as sns\n",
    "        df = sns.load_dataset(\"iris\")\n",
    "        print(grab_col_names(df))\n",
    "\n",
    "\n",
    "    Notes\n",
    "    ------\n",
    "        cat_cols + num_cols + cat_but_car = toplam değişken sayısı\n",
    "        num_but_cat cat_cols'un içerisinde.\n",
    "        Return olan 3 liste toplamı toplam değişken sayısına eşittir: cat_cols + num_cols + cat_but_car = değişken sayısı\n",
    "\n",
    "    \"\"\"\n",
    "\n",
    "    # cat_cols, cat_but_car\n",
    "    cat_cols = [col for col in dataframe.columns if dataframe[col].dtypes == \"O\"]\n",
    "    num_but_cat = [col for col in dataframe.columns if dataframe[col].nunique() < cat_th and\n",
    "                   dataframe[col].dtypes != \"O\"]\n",
    "    cat_but_car = [col for col in dataframe.columns if dataframe[col].nunique() > car_th and\n",
    "                   dataframe[col].dtypes == \"O\"]\n",
    "    cat_cols = cat_cols + num_but_cat\n",
    "    cat_cols = [col for col in cat_cols if col not in cat_but_car]\n",
    "\n",
    "    # num_cols\n",
    "    num_cols = [col for col in dataframe.columns if dataframe[col].dtypes != \"O\"]\n",
    "    num_cols = [col for col in num_cols if col not in num_but_cat]\n",
    "\n",
    "    print(f\"Observations: {dataframe.shape[0]}\")\n",
    "    print(f\"Variables: {dataframe.shape[1]}\")\n",
    "    print(f'cat_cols: {len(cat_cols)}')\n",
    "    print(f'num_cols: {len(num_cols)}')\n",
    "    print(f'cat_but_car: {len(cat_but_car)}')\n",
    "    print(f'num_but_cat: {len(num_but_cat)}')\n",
    "    return cat_cols, num_cols, cat_but_car\n",
    "\n",
    "cat_cols, num_cols, cat_but_car = grab_col_names(df)\n",
    "\n"
   ]
  },
  {
   "cell_type": "code",
   "execution_count": 54,
   "id": "92aae0c0-bdda-4955-8a15-b1000dd90b7a",
   "metadata": {},
   "outputs": [
    {
     "data": {
      "text/plain": [
       "['NEW_AGE_CAT', 'BMI_KATEGORI', 'OUTCOME']"
      ]
     },
     "execution_count": 54,
     "metadata": {},
     "output_type": "execute_result"
    }
   ],
   "source": [
    "cat_cols"
   ]
  },
  {
   "cell_type": "code",
   "execution_count": 55,
   "id": "7bedf3a2-2cd5-4187-adcf-0d93c5b773f4",
   "metadata": {},
   "outputs": [
    {
     "data": {
      "text/html": [
       "<div>\n",
       "<style scoped>\n",
       "    .dataframe tbody tr th:only-of-type {\n",
       "        vertical-align: middle;\n",
       "    }\n",
       "\n",
       "    .dataframe tbody tr th {\n",
       "        vertical-align: top;\n",
       "    }\n",
       "\n",
       "    .dataframe thead th {\n",
       "        text-align: right;\n",
       "    }\n",
       "</style>\n",
       "<table border=\"1\" class=\"dataframe\">\n",
       "  <thead>\n",
       "    <tr style=\"text-align: right;\">\n",
       "      <th></th>\n",
       "      <th>PREGNANCIES</th>\n",
       "      <th>GLUCOSE</th>\n",
       "      <th>BLOODPRESSURE</th>\n",
       "      <th>SKINTHICKNESS</th>\n",
       "      <th>INSULIN</th>\n",
       "      <th>BMI</th>\n",
       "      <th>DIABETESPEDIGREEFUNCTION</th>\n",
       "      <th>AGE</th>\n",
       "      <th>OUTCOME</th>\n",
       "      <th>NEW_AGE_CAT</th>\n",
       "      <th>BMI_KATEGORI</th>\n",
       "    </tr>\n",
       "  </thead>\n",
       "  <tbody>\n",
       "    <tr>\n",
       "      <th>0</th>\n",
       "      <td>6.000</td>\n",
       "      <td>148.000</td>\n",
       "      <td>72</td>\n",
       "      <td>35</td>\n",
       "      <td>0.000</td>\n",
       "      <td>33.600</td>\n",
       "      <td>0.627</td>\n",
       "      <td>50.000</td>\n",
       "      <td>1</td>\n",
       "      <td>mature</td>\n",
       "      <td>Obez</td>\n",
       "    </tr>\n",
       "    <tr>\n",
       "      <th>1</th>\n",
       "      <td>1.000</td>\n",
       "      <td>85.000</td>\n",
       "      <td>66</td>\n",
       "      <td>29</td>\n",
       "      <td>0.000</td>\n",
       "      <td>26.600</td>\n",
       "      <td>0.351</td>\n",
       "      <td>31.000</td>\n",
       "      <td>0</td>\n",
       "      <td>mature</td>\n",
       "      <td>Şişman</td>\n",
       "    </tr>\n",
       "    <tr>\n",
       "      <th>2</th>\n",
       "      <td>8.000</td>\n",
       "      <td>183.000</td>\n",
       "      <td>64</td>\n",
       "      <td>0</td>\n",
       "      <td>0.000</td>\n",
       "      <td>23.300</td>\n",
       "      <td>0.672</td>\n",
       "      <td>32.000</td>\n",
       "      <td>1</td>\n",
       "      <td>mature</td>\n",
       "      <td>Sağlıklı</td>\n",
       "    </tr>\n",
       "    <tr>\n",
       "      <th>3</th>\n",
       "      <td>1.000</td>\n",
       "      <td>89.000</td>\n",
       "      <td>66</td>\n",
       "      <td>23</td>\n",
       "      <td>94.000</td>\n",
       "      <td>28.100</td>\n",
       "      <td>0.167</td>\n",
       "      <td>21.000</td>\n",
       "      <td>0</td>\n",
       "      <td>mature</td>\n",
       "      <td>Şişman</td>\n",
       "    </tr>\n",
       "    <tr>\n",
       "      <th>4</th>\n",
       "      <td>0.000</td>\n",
       "      <td>137.000</td>\n",
       "      <td>40</td>\n",
       "      <td>35</td>\n",
       "      <td>168.000</td>\n",
       "      <td>43.100</td>\n",
       "      <td>1.200</td>\n",
       "      <td>33.000</td>\n",
       "      <td>1</td>\n",
       "      <td>mature</td>\n",
       "      <td>Aşırı Obez</td>\n",
       "    </tr>\n",
       "  </tbody>\n",
       "</table>\n",
       "</div>"
      ],
      "text/plain": [
       "   PREGNANCIES  GLUCOSE  BLOODPRESSURE  SKINTHICKNESS  INSULIN    BMI  DIABETESPEDIGREEFUNCTION    AGE  OUTCOME NEW_AGE_CAT BMI_KATEGORI\n",
       "0        6.000  148.000             72             35    0.000 33.600                     0.627 50.000        1      mature         Obez\n",
       "1        1.000   85.000             66             29    0.000 26.600                     0.351 31.000        0      mature       Şişman\n",
       "2        8.000  183.000             64              0    0.000 23.300                     0.672 32.000        1      mature     Sağlıklı\n",
       "3        1.000   89.000             66             23   94.000 28.100                     0.167 21.000        0      mature       Şişman\n",
       "4        0.000  137.000             40             35  168.000 43.100                     1.200 33.000        1      mature   Aşırı Obez"
      ]
     },
     "execution_count": 55,
     "metadata": {},
     "output_type": "execute_result"
    }
   ],
   "source": [
    "df.head()\n"
   ]
  },
  {
   "cell_type": "code",
   "execution_count": 56,
   "id": "7876bdef-0476-4576-bd78-558c091f8505",
   "metadata": {},
   "outputs": [],
   "source": [
    "def outlier_thresholds(dataframe,col_name,q1 = 0.25 , q3 = 0.75):\n",
    "    quartile1 = dataframe[col_name].quantile(q1)\n",
    "    quartile3 = dataframe[col_name].quantile(q3)\n",
    "    interquantile_range = quartile3 - quartile1\n",
    "    up_limit = quartile3 +1.5 * interquantile_range\n",
    "    low_limit = quartile1 -1.5 *interquantile_range\n",
    "    return low_limit , up_limit\n",
    "    \n",
    "def check_outlier(dataframe, col_name):\n",
    "    low_limit, up_limit = outlier_thresholds(dataframe, col_name)  # Değişken adı düzeltildi\n",
    "    if dataframe[(dataframe[col_name] > up_limit) | (dataframe[col_name] < low_limit)].any(axis=None):  # Parantezler ve operatör düzeltildi\n",
    "        return True\n",
    "    else:\n",
    "        return False"
   ]
  },
  {
   "cell_type": "code",
   "execution_count": 57,
   "id": "aad62813-fa5c-410d-a086-6544dd6ce644",
   "metadata": {},
   "outputs": [
    {
     "name": "stdout",
     "output_type": "stream",
     "text": [
      "PREGNANCIES False\n",
      "GLUCOSE False\n",
      "BLOODPRESSURE False\n",
      "SKINTHICKNESS False\n",
      "INSULIN False\n",
      "BMI False\n",
      "DIABETESPEDIGREEFUNCTION False\n",
      "AGE False\n"
     ]
    }
   ],
   "source": [
    "for col in num_cols:\n",
    "    print(col,check_outlier(df,col))"
   ]
  },
  {
   "cell_type": "code",
   "execution_count": 58,
   "id": "db118db6-4e50-40e6-8cbe-7716198bed30",
   "metadata": {},
   "outputs": [],
   "source": [
    "def replace_with_thresholds(dataframe, variable):\n",
    "    low_limit, up_limit = outlier_thresholds(dataframe, variable)\n",
    "    dataframe.loc[(dataframe[variable] < low_limit), variable] = low_limit\n",
    "    dataframe.loc[(dataframe[variable] > up_limit), variable] = up_limit\n"
   ]
  },
  {
   "cell_type": "code",
   "execution_count": 59,
   "id": "4121772d-65fa-412c-918b-09c87bc63120",
   "metadata": {},
   "outputs": [],
   "source": [
    "for col in num_cols:\n",
    "    replace_with_thresholds(df,col)"
   ]
  },
  {
   "cell_type": "code",
   "execution_count": 60,
   "id": "3b218c33-df4f-4180-b4a3-733f416ececf",
   "metadata": {},
   "outputs": [
    {
     "name": "stdout",
     "output_type": "stream",
     "text": [
      "PREGNANCIES False\n",
      "GLUCOSE False\n",
      "BLOODPRESSURE False\n",
      "SKINTHICKNESS False\n",
      "INSULIN False\n",
      "BMI False\n",
      "DIABETESPEDIGREEFUNCTION False\n",
      "AGE False\n"
     ]
    }
   ],
   "source": [
    "for col in num_cols:\n",
    "    print(col,check_outlier(df,col))"
   ]
  },
  {
   "cell_type": "code",
   "execution_count": 61,
   "id": "5ac2bb84-9c4f-4d46-a702-4fe23b92b512",
   "metadata": {},
   "outputs": [],
   "source": [
    "def missing_values_table ( datafreame , na_name=False):\n",
    "    na_columns = [col for col in datafreame.columns if datafreame[col].isnull().sum()>0]\n",
    "    n_miss = (datafreame[na_columns].isnull().sum()).sort_values(ascending = False)\n",
    "    ratio = (datafreame[na_columns].isnull().sum() / datafreame.shape[0] * 100 ).sort_values(ascending =False)\n",
    "    missing_df = pd.concat([n_miss , np.round(ratio,2)] , axis =1 , keys = ['n_miss' , 'ratio'])\n",
    "    print(missing_df,end=\"\\n\")\n",
    "    if na_columns:\n",
    "        return na_columns"
   ]
  },
  {
   "cell_type": "code",
   "execution_count": 62,
   "id": "703005e0-d07a-404b-a559-948e6a6ede0e",
   "metadata": {},
   "outputs": [
    {
     "name": "stdout",
     "output_type": "stream",
     "text": [
      "Empty DataFrame\n",
      "Columns: [n_miss, ratio]\n",
      "Index: []\n"
     ]
    }
   ],
   "source": [
    "missing_values_table(df)"
   ]
  },
  {
   "cell_type": "code",
   "execution_count": 63,
   "id": "3a45018e-5a07-4bf5-bc21-e5fa459bd811",
   "metadata": {},
   "outputs": [
    {
     "name": "stdout",
     "output_type": "stream",
     "text": [
      "Empty DataFrame\n",
      "Columns: [PREGNANCIES, GLUCOSE, BLOODPRESSURE, SKINTHICKNESS, INSULIN, BMI, DIABETESPEDIGREEFUNCTION, AGE, OUTCOME, NEW_AGE_CAT, BMI_KATEGORI]\n",
      "Index: []\n"
     ]
    }
   ],
   "source": [
    "# BMI_KATEGORI sütunundaki eksik verileri gösterme\n",
    "missing_bmi_rows = df[df['BMI_KATEGORI'].isnull()]\n",
    "print(missing_bmi_rows)\n"
   ]
  },
  {
   "cell_type": "code",
   "execution_count": null,
   "id": "9b06ffb8-ad19-4a81-b80c-d9879cdfe904",
   "metadata": {},
   "outputs": [],
   "source": []
  },
  {
   "cell_type": "code",
   "execution_count": 64,
   "id": "e72996df-54f6-4cee-b1d7-41aab33863f9",
   "metadata": {},
   "outputs": [
    {
     "data": {
      "text/plain": [
       "['NEW_AGE_CAT']"
      ]
     },
     "execution_count": 64,
     "metadata": {},
     "output_type": "execute_result"
    }
   ],
   "source": [
    "binary_cols = [col for col in df.columns if df[col].dtype == 'object' and df[col].nunique() == 2]\n",
    "binary_cols"
   ]
  },
  {
   "cell_type": "code",
   "execution_count": 65,
   "id": "72fdf2f4-f62f-4dea-94a0-b04b7130c339",
   "metadata": {},
   "outputs": [],
   "source": [
    "def label_encoder(dataframe , binary_col_name):\n",
    "    label_encoder = LabelEncoder()\n",
    "    dataframe[binary_col_name] = label_encoder.fit_transform(dataframe[binary_col_name])\n",
    "    return dataframe\n",
    "    "
   ]
  },
  {
   "cell_type": "code",
   "execution_count": 66,
   "id": "e696d764-74de-4a31-bc4d-72261206015d",
   "metadata": {},
   "outputs": [],
   "source": [
    "for col in binary_cols:\n",
    "    df = label_encoder(df,col)"
   ]
  },
  {
   "cell_type": "code",
   "execution_count": 67,
   "id": "2bb5918d-1a65-4703-9f5a-823d089a3ff9",
   "metadata": {},
   "outputs": [],
   "source": [
    "import pandas as pd\n",
    "\n",
    "def rare_analyser(dataframe, target, cat_cols):\n",
    "    for col in cat_cols:\n",
    "        print(col, \":\", len(dataframe[col].value_counts()))\n",
    "        print(pd.DataFrame({\"COUNT\": dataframe[col].value_counts(),\n",
    "                            \"RATIO\": dataframe[col].value_counts() / len(dataframe),\n",
    "                            \"TARGET_MEAN\": dataframe.groupby(col)[target].mean()}), end=\"\\n\\n\\n\")"
   ]
  },
  {
   "cell_type": "code",
   "execution_count": 68,
   "id": "9bfec56a-cf75-48bf-9476-e069f734c525",
   "metadata": {},
   "outputs": [],
   "source": [
    "\n",
    "def rare_encoder(dataframe, rare_perc):\n",
    "    temp_df = dataframe.copy()\n",
    "\n",
    "    rare_columns = [col for col in temp_df.columns if temp_df[col].dtypes == 'O'\n",
    "                    and (temp_df[col].value_counts() / len(temp_df) < rare_perc).any(axis=None)]\n",
    "\n",
    "    for var in rare_columns:\n",
    "        tmp = temp_df[var].value_counts() / len(temp_df)\n",
    "        rare_labels = tmp[tmp < rare_perc].index\n",
    "        temp_df[var] = np.where(temp_df[var].isin(rare_labels), 'Rare', temp_df[var])\n",
    "\n",
    "    return temp_df"
   ]
  },
  {
   "cell_type": "code",
   "execution_count": 69,
   "id": "5ba75c2a-6ba1-4584-8135-80d0527fc4ff",
   "metadata": {},
   "outputs": [
    {
     "name": "stdout",
     "output_type": "stream",
     "text": [
      "NEW_AGE_CAT : 2\n",
      "             COUNT  RATIO  TARGET_MEAN\n",
      "NEW_AGE_CAT                           \n",
      "0              718  0.935        0.350\n",
      "1               50  0.065        0.340\n",
      "\n",
      "\n",
      "BMI_KATEGORI : 5\n",
      "              COUNT  RATIO  TARGET_MEAN\n",
      "BMI_KATEGORI                           \n",
      "Aşırı Obez       98  0.128        0.561\n",
      "Obez            374  0.487        0.439\n",
      "Sağlıklı        102  0.133        0.069\n",
      "Zayıf            15  0.020        0.133\n",
      "Şişman          179  0.233        0.223\n",
      "\n",
      "\n",
      "OUTCOME : 2\n",
      "         COUNT  RATIO  TARGET_MEAN\n",
      "OUTCOME                           \n",
      "0          500  0.651        0.000\n",
      "1          268  0.349        1.000\n",
      "\n",
      "\n"
     ]
    }
   ],
   "source": [
    "rare_cols = rare_analyser(df, \"OUTCOME\",cat_cols)"
   ]
  },
  {
   "cell_type": "code",
   "execution_count": null,
   "id": "e167e1ab-6425-4851-8fe7-54e7bab9dbd9",
   "metadata": {},
   "outputs": [],
   "source": []
  },
  {
   "cell_type": "code",
   "execution_count": 71,
   "id": "2d2e865a-19a8-437d-9c0a-26c808f4bc0e",
   "metadata": {},
   "outputs": [
    {
     "data": {
      "text/plain": [
       "['BMI_KATEGORI']"
      ]
     },
     "execution_count": 71,
     "metadata": {},
     "output_type": "execute_result"
    }
   ],
   "source": [
    "ohe_cols = [col for col in df.columns if 10 >= df[col].nunique()>2]\n",
    "ohe_cols"
   ]
  },
  {
   "cell_type": "code",
   "execution_count": 72,
   "id": "3f682d96-59c6-4c4e-9610-b70f80a83e15",
   "metadata": {},
   "outputs": [],
   "source": [
    "def one_hot_encoder(dataframe, categorical_cols , drop_first=True):\n",
    "    dataframe = pd.get_dummies(dataframe , columns=categorical_cols , drop_first=drop_first)\n",
    "    return dataframe"
   ]
  },
  {
   "cell_type": "code",
   "execution_count": 73,
   "id": "2f2d6966-1c2d-471a-9b60-2a820a2a4aef",
   "metadata": {},
   "outputs": [],
   "source": [
    "df=one_hot_encoder(df,ohe_cols)"
   ]
  },
  {
   "cell_type": "code",
   "execution_count": 74,
   "id": "7f217b87-8d9e-4768-9865-0d96dff95b30",
   "metadata": {},
   "outputs": [
    {
     "data": {
      "text/html": [
       "<div>\n",
       "<style scoped>\n",
       "    .dataframe tbody tr th:only-of-type {\n",
       "        vertical-align: middle;\n",
       "    }\n",
       "\n",
       "    .dataframe tbody tr th {\n",
       "        vertical-align: top;\n",
       "    }\n",
       "\n",
       "    .dataframe thead th {\n",
       "        text-align: right;\n",
       "    }\n",
       "</style>\n",
       "<table border=\"1\" class=\"dataframe\">\n",
       "  <thead>\n",
       "    <tr style=\"text-align: right;\">\n",
       "      <th></th>\n",
       "      <th>PREGNANCIES</th>\n",
       "      <th>GLUCOSE</th>\n",
       "      <th>BLOODPRESSURE</th>\n",
       "      <th>SKINTHICKNESS</th>\n",
       "      <th>INSULIN</th>\n",
       "      <th>BMI</th>\n",
       "      <th>DIABETESPEDIGREEFUNCTION</th>\n",
       "      <th>AGE</th>\n",
       "      <th>OUTCOME</th>\n",
       "      <th>NEW_AGE_CAT</th>\n",
       "      <th>BMI_KATEGORI_Obez</th>\n",
       "      <th>BMI_KATEGORI_Sağlıklı</th>\n",
       "      <th>BMI_KATEGORI_Zayıf</th>\n",
       "      <th>BMI_KATEGORI_Şişman</th>\n",
       "    </tr>\n",
       "  </thead>\n",
       "  <tbody>\n",
       "    <tr>\n",
       "      <th>0</th>\n",
       "      <td>6.000</td>\n",
       "      <td>148.000</td>\n",
       "      <td>72</td>\n",
       "      <td>35</td>\n",
       "      <td>0.000</td>\n",
       "      <td>33.600</td>\n",
       "      <td>0.627</td>\n",
       "      <td>50.000</td>\n",
       "      <td>1</td>\n",
       "      <td>0</td>\n",
       "      <td>True</td>\n",
       "      <td>False</td>\n",
       "      <td>False</td>\n",
       "      <td>False</td>\n",
       "    </tr>\n",
       "    <tr>\n",
       "      <th>1</th>\n",
       "      <td>1.000</td>\n",
       "      <td>85.000</td>\n",
       "      <td>66</td>\n",
       "      <td>29</td>\n",
       "      <td>0.000</td>\n",
       "      <td>26.600</td>\n",
       "      <td>0.351</td>\n",
       "      <td>31.000</td>\n",
       "      <td>0</td>\n",
       "      <td>0</td>\n",
       "      <td>False</td>\n",
       "      <td>False</td>\n",
       "      <td>False</td>\n",
       "      <td>True</td>\n",
       "    </tr>\n",
       "    <tr>\n",
       "      <th>2</th>\n",
       "      <td>8.000</td>\n",
       "      <td>183.000</td>\n",
       "      <td>64</td>\n",
       "      <td>0</td>\n",
       "      <td>0.000</td>\n",
       "      <td>23.300</td>\n",
       "      <td>0.672</td>\n",
       "      <td>32.000</td>\n",
       "      <td>1</td>\n",
       "      <td>0</td>\n",
       "      <td>False</td>\n",
       "      <td>True</td>\n",
       "      <td>False</td>\n",
       "      <td>False</td>\n",
       "    </tr>\n",
       "    <tr>\n",
       "      <th>3</th>\n",
       "      <td>1.000</td>\n",
       "      <td>89.000</td>\n",
       "      <td>66</td>\n",
       "      <td>23</td>\n",
       "      <td>94.000</td>\n",
       "      <td>28.100</td>\n",
       "      <td>0.167</td>\n",
       "      <td>21.000</td>\n",
       "      <td>0</td>\n",
       "      <td>0</td>\n",
       "      <td>False</td>\n",
       "      <td>False</td>\n",
       "      <td>False</td>\n",
       "      <td>True</td>\n",
       "    </tr>\n",
       "    <tr>\n",
       "      <th>4</th>\n",
       "      <td>0.000</td>\n",
       "      <td>137.000</td>\n",
       "      <td>40</td>\n",
       "      <td>35</td>\n",
       "      <td>168.000</td>\n",
       "      <td>43.100</td>\n",
       "      <td>1.200</td>\n",
       "      <td>33.000</td>\n",
       "      <td>1</td>\n",
       "      <td>0</td>\n",
       "      <td>False</td>\n",
       "      <td>False</td>\n",
       "      <td>False</td>\n",
       "      <td>False</td>\n",
       "    </tr>\n",
       "  </tbody>\n",
       "</table>\n",
       "</div>"
      ],
      "text/plain": [
       "   PREGNANCIES  GLUCOSE  BLOODPRESSURE  SKINTHICKNESS  INSULIN    BMI  DIABETESPEDIGREEFUNCTION    AGE  OUTCOME  NEW_AGE_CAT  BMI_KATEGORI_Obez  BMI_KATEGORI_Sağlıklı  BMI_KATEGORI_Zayıf  BMI_KATEGORI_Şişman\n",
       "0        6.000  148.000             72             35    0.000 33.600                     0.627 50.000        1            0               True                  False               False                False\n",
       "1        1.000   85.000             66             29    0.000 26.600                     0.351 31.000        0            0              False                  False               False                 True\n",
       "2        8.000  183.000             64              0    0.000 23.300                     0.672 32.000        1            0              False                   True               False                False\n",
       "3        1.000   89.000             66             23   94.000 28.100                     0.167 21.000        0            0              False                  False               False                 True\n",
       "4        0.000  137.000             40             35  168.000 43.100                     1.200 33.000        1            0              False                  False               False                False"
      ]
     },
     "execution_count": 74,
     "metadata": {},
     "output_type": "execute_result"
    }
   ],
   "source": [
    "df.head()"
   ]
  },
  {
   "cell_type": "code",
   "execution_count": 75,
   "id": "082aabf1-c82f-4be8-8a2b-63bf4d4a6bf9",
   "metadata": {},
   "outputs": [
    {
     "data": {
      "text/plain": [
       "(768, 14)"
      ]
     },
     "execution_count": 75,
     "metadata": {},
     "output_type": "execute_result"
    }
   ],
   "source": [
    "df.shape"
   ]
  },
  {
   "cell_type": "code",
   "execution_count": 76,
   "id": "09bd0230-cbd3-46ac-a1d4-ea9608400a3a",
   "metadata": {},
   "outputs": [
    {
     "name": "stdout",
     "output_type": "stream",
     "text": [
      "Observations: 768\n",
      "Variables: 14\n",
      "cat_cols: 6\n",
      "num_cols: 8\n",
      "cat_but_car: 0\n",
      "num_but_cat: 6\n"
     ]
    }
   ],
   "source": [
    "cat_cols, num_cols, cat_but_car = grab_col_names(df)\n"
   ]
  },
  {
   "cell_type": "code",
   "execution_count": 77,
   "id": "2c482855-07fb-4aaf-9386-82df52c5b242",
   "metadata": {},
   "outputs": [
    {
     "data": {
      "text/plain": [
       "['PREGNANCIES',\n",
       " 'GLUCOSE',\n",
       " 'BLOODPRESSURE',\n",
       " 'SKINTHICKNESS',\n",
       " 'INSULIN',\n",
       " 'BMI',\n",
       " 'DIABETESPEDIGREEFUNCTION',\n",
       " 'AGE']"
      ]
     },
     "execution_count": 77,
     "metadata": {},
     "output_type": "execute_result"
    }
   ],
   "source": [
    "num_cols"
   ]
  },
  {
   "cell_type": "code",
   "execution_count": 78,
   "id": "abb31398-0eba-4d98-a3d8-3f603d70fd81",
   "metadata": {},
   "outputs": [
    {
     "name": "stdout",
     "output_type": "stream",
     "text": [
      "OUTCOME : 2\n",
      "         COUNT  RATIO  TARGET_MEAN\n",
      "OUTCOME                           \n",
      "0          500  0.651        0.000\n",
      "1          268  0.349        1.000\n",
      "\n",
      "\n",
      "NEW_AGE_CAT : 2\n",
      "             COUNT  RATIO  TARGET_MEAN\n",
      "NEW_AGE_CAT                           \n",
      "0              718  0.935        0.350\n",
      "1               50  0.065        0.340\n",
      "\n",
      "\n",
      "BMI_KATEGORI_Obez : 2\n",
      "                   COUNT  RATIO  TARGET_MEAN\n",
      "BMI_KATEGORI_Obez                           \n",
      "False                394  0.513        0.264\n",
      "True                 374  0.487        0.439\n",
      "\n",
      "\n",
      "BMI_KATEGORI_Sağlıklı : 2\n",
      "                       COUNT  RATIO  TARGET_MEAN\n",
      "BMI_KATEGORI_Sağlıklı                           \n",
      "False                    666  0.867        0.392\n",
      "True                     102  0.133        0.069\n",
      "\n",
      "\n",
      "BMI_KATEGORI_Zayıf : 2\n",
      "                    COUNT  RATIO  TARGET_MEAN\n",
      "BMI_KATEGORI_Zayıf                           \n",
      "False                 753  0.980        0.353\n",
      "True                   15  0.020        0.133\n",
      "\n",
      "\n",
      "BMI_KATEGORI_Şişman : 2\n",
      "                     COUNT  RATIO  TARGET_MEAN\n",
      "BMI_KATEGORI_Şişman                           \n",
      "False                  589  0.767        0.387\n",
      "True                   179  0.233        0.223\n",
      "\n",
      "\n"
     ]
    }
   ],
   "source": [
    "rare_cols = rare_analyser(df, \"OUTCOME\",cat_cols)"
   ]
  },
  {
   "cell_type": "code",
   "execution_count": 79,
   "id": "c5a069ce-ea41-4c38-b8f7-8b61d69e60f8",
   "metadata": {},
   "outputs": [],
   "source": [
    "useless_cols = [col for col in df.columns if df[col].nunique() == 2 and \n",
    "                (df[col].value_counts() / len(df) < 0.01).any(axis=None)]"
   ]
  },
  {
   "cell_type": "code",
   "execution_count": 80,
   "id": "cd001fba-1731-45c6-8e22-aaa6ad904404",
   "metadata": {},
   "outputs": [
    {
     "data": {
      "text/plain": [
       "[]"
      ]
     },
     "execution_count": 80,
     "metadata": {},
     "output_type": "execute_result"
    }
   ],
   "source": [
    "useless_cols"
   ]
  },
  {
   "cell_type": "code",
   "execution_count": 81,
   "id": "b12f4527-0095-4fd0-9ae3-b549e817176a",
   "metadata": {},
   "outputs": [
    {
     "data": {
      "text/html": [
       "<div>\n",
       "<style scoped>\n",
       "    .dataframe tbody tr th:only-of-type {\n",
       "        vertical-align: middle;\n",
       "    }\n",
       "\n",
       "    .dataframe tbody tr th {\n",
       "        vertical-align: top;\n",
       "    }\n",
       "\n",
       "    .dataframe thead th {\n",
       "        text-align: right;\n",
       "    }\n",
       "</style>\n",
       "<table border=\"1\" class=\"dataframe\">\n",
       "  <thead>\n",
       "    <tr style=\"text-align: right;\">\n",
       "      <th></th>\n",
       "      <th>PREGNANCIES</th>\n",
       "      <th>GLUCOSE</th>\n",
       "      <th>BLOODPRESSURE</th>\n",
       "      <th>SKINTHICKNESS</th>\n",
       "      <th>INSULIN</th>\n",
       "      <th>BMI</th>\n",
       "      <th>DIABETESPEDIGREEFUNCTION</th>\n",
       "      <th>AGE</th>\n",
       "    </tr>\n",
       "  </thead>\n",
       "  <tbody>\n",
       "    <tr>\n",
       "      <th>0</th>\n",
       "      <td>0.647</td>\n",
       "      <td>0.862</td>\n",
       "      <td>0.093</td>\n",
       "      <td>0.915</td>\n",
       "      <td>-0.788</td>\n",
       "      <td>0.209</td>\n",
       "      <td>0.589</td>\n",
       "      <td>1.446</td>\n",
       "    </tr>\n",
       "    <tr>\n",
       "      <th>1</th>\n",
       "      <td>-0.849</td>\n",
       "      <td>-1.159</td>\n",
       "      <td>-0.330</td>\n",
       "      <td>0.536</td>\n",
       "      <td>-0.788</td>\n",
       "      <td>-0.784</td>\n",
       "      <td>-0.378</td>\n",
       "      <td>-0.189</td>\n",
       "    </tr>\n",
       "    <tr>\n",
       "      <th>2</th>\n",
       "      <td>1.246</td>\n",
       "      <td>1.985</td>\n",
       "      <td>-0.471</td>\n",
       "      <td>-1.295</td>\n",
       "      <td>-0.788</td>\n",
       "      <td>-1.253</td>\n",
       "      <td>0.747</td>\n",
       "      <td>-0.103</td>\n",
       "    </tr>\n",
       "    <tr>\n",
       "      <th>3</th>\n",
       "      <td>-0.849</td>\n",
       "      <td>-1.031</td>\n",
       "      <td>-0.330</td>\n",
       "      <td>0.157</td>\n",
       "      <td>0.218</td>\n",
       "      <td>-0.571</td>\n",
       "      <td>-1.023</td>\n",
       "      <td>-1.050</td>\n",
       "    </tr>\n",
       "    <tr>\n",
       "      <th>4</th>\n",
       "      <td>-1.148</td>\n",
       "      <td>0.509</td>\n",
       "      <td>-2.163</td>\n",
       "      <td>0.915</td>\n",
       "      <td>1.009</td>\n",
       "      <td>1.558</td>\n",
       "      <td>2.597</td>\n",
       "      <td>-0.017</td>\n",
       "    </tr>\n",
       "  </tbody>\n",
       "</table>\n",
       "</div>"
      ],
      "text/plain": [
       "   PREGNANCIES  GLUCOSE  BLOODPRESSURE  SKINTHICKNESS  INSULIN    BMI  DIABETESPEDIGREEFUNCTION    AGE\n",
       "0        0.647    0.862          0.093          0.915   -0.788  0.209                     0.589  1.446\n",
       "1       -0.849   -1.159         -0.330          0.536   -0.788 -0.784                    -0.378 -0.189\n",
       "2        1.246    1.985         -0.471         -1.295   -0.788 -1.253                     0.747 -0.103\n",
       "3       -0.849   -1.031         -0.330          0.157    0.218 -0.571                    -1.023 -1.050\n",
       "4       -1.148    0.509         -2.163          0.915    1.009  1.558                     2.597 -0.017"
      ]
     },
     "execution_count": 81,
     "metadata": {},
     "output_type": "execute_result"
    }
   ],
   "source": [
    "scaler = StandardScaler()\n",
    "df[num_cols] = scaler.fit_transform(df[num_cols])\n",
    "df[num_cols].head()"
   ]
  },
  {
   "cell_type": "code",
   "execution_count": 83,
   "id": "a1693b42-7cd9-4e23-b81f-5a9393554023",
   "metadata": {},
   "outputs": [],
   "source": [
    "y = df[\"OUTCOME\"]\n",
    "\n",
    "X = df.drop([\"OUTCOME\"],axis=1)"
   ]
  },
  {
   "cell_type": "code",
   "execution_count": 86,
   "id": "7ae43675-c16c-450c-a049-41bb3663b4a7",
   "metadata": {},
   "outputs": [],
   "source": [
    "X_train , X_test , y_train , y_test = train_test_split(X,y,test_size=0.30 ,random_state=17)\n"
   ]
  },
  {
   "cell_type": "code",
   "execution_count": 87,
   "id": "01bfb767-e84f-45c7-a75b-9808a1d151a9",
   "metadata": {},
   "outputs": [],
   "source": [
    "from sklearn.ensemble import RandomForestClassifier"
   ]
  },
  {
   "cell_type": "code",
   "execution_count": 88,
   "id": "80705e61-4f8c-42e9-912b-359e673879c1",
   "metadata": {},
   "outputs": [
    {
     "data": {
      "text/plain": [
       "0.7792207792207793"
      ]
     },
     "execution_count": 88,
     "metadata": {},
     "output_type": "execute_result"
    }
   ],
   "source": [
    "rf_model = RandomForestClassifier(random_state=46).fit(X_train,y_train)\n",
    "\n",
    "y_pred = rf_model.predict(X_test)\n",
    "\n",
    "accuracy_score(y_pred,y_test)"
   ]
  },
  {
   "cell_type": "code",
   "execution_count": 89,
   "id": "828bd8b9-f8f5-433e-bb1c-6195291f8580",
   "metadata": {},
   "outputs": [
    {
     "data": {
      "image/png": "[encoded data removed]",
      "text/plain": [
       "<Figure size 1000x1000 with 1 Axes>"
      ]
     },
     "metadata": {},
     "output_type": "display_data"
    }
   ],
   "source": [
    "def plot_importance(model, features, num=len(X), save=False):\n",
    "    feature_imp = pd.DataFrame({'Value': model.feature_importances_, 'Feature': features.columns})\n",
    "    plt.figure(figsize=(10, 10))\n",
    "    sns.set(font_scale=1)\n",
    "    sns.barplot(x=\"Value\", y=\"Feature\", data=feature_imp.sort_values(by=\"Value\",\n",
    "                                                                      ascending=False)[0:num])\n",
    "    plt.title('Features')\n",
    "    plt.tight_layout()\n",
    "    plt.show()\n",
    "    if save:\n",
    "        plt.savefig('importances.png')\n",
    "\n",
    "\n",
    "plot_importance(rf_model, X_train)"
   ]
  },
  {
   "cell_type": "code",
   "execution_count": 90,
   "id": "3c8eb843-6ab2-47c1-b974-000c3f64bd47",
   "metadata": {},
   "outputs": [
    {
     "name": "stdout",
     "output_type": "stream",
     "text": [
      "Fitting 3 folds for each of 648 candidates, totalling 1944 fits\n"
     ]
    },
    {
     "name": "stderr",
     "output_type": "stream",
     "text": [
      "C:\\Users\\hasan\\AppData\\Roaming\\Python\\Python312\\site-packages\\sklearn\\model_selection\\_validation.py:540: FitFailedWarning: \n",
      "648 fits failed out of a total of 1944.\n",
      "The score on these train-test partitions for these parameters will be set to nan.\n",
      "If these failures are not expected, you can try to debug them by setting error_score='raise'.\n",
      "\n",
      "Below are more details about the failures:\n",
      "--------------------------------------------------------------------------------\n",
      "321 fits failed with the following error:\n",
      "Traceback (most recent call last):\n",
      "  File \"C:\\Users\\hasan\\AppData\\Roaming\\Python\\Python312\\site-packages\\sklearn\\model_selection\\_validation.py\", line 888, in _fit_and_score\n",
      "    estimator.fit(X_train, y_train, **fit_params)\n",
      "  File \"C:\\Users\\hasan\\AppData\\Roaming\\Python\\Python312\\site-packages\\sklearn\\base.py\", line 1466, in wrapper\n",
      "    estimator._validate_params()\n",
      "  File \"C:\\Users\\hasan\\AppData\\Roaming\\Python\\Python312\\site-packages\\sklearn\\base.py\", line 666, in _validate_params\n",
      "    validate_parameter_constraints(\n",
      "  File \"C:\\Users\\hasan\\AppData\\Roaming\\Python\\Python312\\site-packages\\sklearn\\utils\\_param_validation.py\", line 95, in validate_parameter_constraints\n",
      "    raise InvalidParameterError(\n",
      "sklearn.utils._param_validation.InvalidParameterError: The 'max_features' parameter of RandomForestClassifier must be an int in the range [1, inf), a float in the range (0.0, 1.0], a str among {'log2', 'sqrt'} or None. Got 'auto' instead.\n",
      "\n",
      "--------------------------------------------------------------------------------\n",
      "327 fits failed with the following error:\n",
      "Traceback (most recent call last):\n",
      "  File \"C:\\Users\\hasan\\AppData\\Roaming\\Python\\Python312\\site-packages\\sklearn\\model_selection\\_validation.py\", line 888, in _fit_and_score\n",
      "    estimator.fit(X_train, y_train, **fit_params)\n",
      "  File \"C:\\Users\\hasan\\AppData\\Roaming\\Python\\Python312\\site-packages\\sklearn\\base.py\", line 1466, in wrapper\n",
      "    estimator._validate_params()\n",
      "  File \"C:\\Users\\hasan\\AppData\\Roaming\\Python\\Python312\\site-packages\\sklearn\\base.py\", line 666, in _validate_params\n",
      "    validate_parameter_constraints(\n",
      "  File \"C:\\Users\\hasan\\AppData\\Roaming\\Python\\Python312\\site-packages\\sklearn\\utils\\_param_validation.py\", line 95, in validate_parameter_constraints\n",
      "    raise InvalidParameterError(\n",
      "sklearn.utils._param_validation.InvalidParameterError: The 'max_features' parameter of RandomForestClassifier must be an int in the range [1, inf), a float in the range (0.0, 1.0], a str among {'sqrt', 'log2'} or None. Got 'auto' instead.\n",
      "\n",
      "  warnings.warn(some_fits_failed_message, FitFailedWarning)\n",
      "C:\\Users\\hasan\\AppData\\Roaming\\Python\\Python312\\site-packages\\numpy\\ma\\core.py:2846: RuntimeWarning: invalid value encountered in cast\n",
      "  _data = np.array(data, dtype=dtype, copy=copy,\n",
      "C:\\Users\\hasan\\AppData\\Roaming\\Python\\Python312\\site-packages\\sklearn\\model_selection\\_search.py:1102: UserWarning: One or more of the test scores are non-finite: [       nan        nan        nan        nan        nan        nan\n",
      "        nan        nan        nan        nan        nan        nan\n",
      "        nan        nan        nan        nan        nan        nan\n",
      "        nan        nan        nan        nan        nan        nan\n",
      "        nan        nan        nan 0.77281192 0.76722533 0.77281192\n",
      " 0.76536313 0.78212291 0.77467412 0.77281192 0.78212291 0.7839851\n",
      " 0.78026071 0.78026071 0.79143389 0.77094972 0.77467412 0.76908752\n",
      " 0.77281192 0.7877095  0.7839851  0.75418994 0.76908752 0.77094972\n",
      " 0.75418994 0.76908752 0.77094972 0.75791434 0.77839851 0.77839851\n",
      " 0.77281192 0.76722533 0.77281192 0.76536313 0.78212291 0.77467412\n",
      " 0.77281192 0.78212291 0.7839851  0.78026071 0.78026071 0.79143389\n",
      " 0.77094972 0.77467412 0.76908752 0.77281192 0.7877095  0.7839851\n",
      " 0.75418994 0.76908752 0.77094972 0.75418994 0.76908752 0.77094972\n",
      " 0.75791434 0.77839851 0.77839851        nan        nan        nan\n",
      "        nan        nan        nan        nan        nan        nan\n",
      "        nan        nan        nan        nan        nan        nan\n",
      "        nan        nan        nan        nan        nan        nan\n",
      "        nan        nan        nan        nan        nan        nan\n",
      " 0.75977654 0.76536313 0.7858473  0.76163873 0.77281192 0.77281192\n",
      " 0.77653631 0.78212291 0.77281192 0.77839851 0.7858473  0.77839851\n",
      " 0.77467412 0.7858473  0.77281192 0.78212291 0.78212291 0.7839851\n",
      " 0.75605214 0.76722533 0.76908752 0.75605214 0.76722533 0.76908752\n",
      " 0.76163873 0.77467412 0.77653631 0.75977654 0.76536313 0.7858473\n",
      " 0.76163873 0.77281192 0.77281192 0.77653631 0.78212291 0.77281192\n",
      " 0.77839851 0.7858473  0.77839851 0.77467412 0.7858473  0.77281192\n",
      " 0.78212291 0.78212291 0.7839851  0.75605214 0.76722533 0.76908752\n",
      " 0.75605214 0.76722533 0.76908752 0.76163873 0.77467412 0.77653631\n",
      "        nan        nan        nan        nan        nan        nan\n",
      "        nan        nan        nan        nan        nan        nan\n",
      "        nan        nan        nan        nan        nan        nan\n",
      "        nan        nan        nan        nan        nan        nan\n",
      "        nan        nan        nan 0.77281192 0.76722533 0.77281192\n",
      " 0.76536313 0.78212291 0.77467412 0.77281192 0.78212291 0.7839851\n",
      " 0.78026071 0.78026071 0.79143389 0.77094972 0.77467412 0.76908752\n",
      " 0.77281192 0.7877095  0.7839851  0.75418994 0.76908752 0.77094972\n",
      " 0.75418994 0.76908752 0.77094972 0.75791434 0.77839851 0.77839851\n",
      " 0.77281192 0.76722533 0.77281192 0.76536313 0.78212291 0.77467412\n",
      " 0.77281192 0.78212291 0.7839851  0.78026071 0.78026071 0.79143389\n",
      " 0.77094972 0.77467412 0.76908752 0.77281192 0.7877095  0.7839851\n",
      " 0.75418994 0.76908752 0.77094972 0.75418994 0.76908752 0.77094972\n",
      " 0.75791434 0.77839851 0.77839851        nan        nan        nan\n",
      "        nan        nan        nan        nan        nan        nan\n",
      "        nan        nan        nan        nan        nan        nan\n",
      "        nan        nan        nan        nan        nan        nan\n",
      "        nan        nan        nan        nan        nan        nan\n",
      " 0.77281192 0.76722533 0.77281192 0.76536313 0.78212291 0.77467412\n",
      " 0.77281192 0.78212291 0.7839851  0.78026071 0.78026071 0.79143389\n",
      " 0.77094972 0.77467412 0.76908752 0.77281192 0.7877095  0.7839851\n",
      " 0.75418994 0.76908752 0.77094972 0.75418994 0.76908752 0.77094972\n",
      " 0.75791434 0.77839851 0.77839851 0.77281192 0.76722533 0.77281192\n",
      " 0.76536313 0.78212291 0.77467412 0.77281192 0.78212291 0.7839851\n",
      " 0.78026071 0.78026071 0.79143389 0.77094972 0.77467412 0.76908752\n",
      " 0.77281192 0.7877095  0.7839851  0.75418994 0.76908752 0.77094972\n",
      " 0.75418994 0.76908752 0.77094972 0.75791434 0.77839851 0.77839851\n",
      "        nan        nan        nan        nan        nan        nan\n",
      "        nan        nan        nan        nan        nan        nan\n",
      "        nan        nan        nan        nan        nan        nan\n",
      "        nan        nan        nan        nan        nan        nan\n",
      "        nan        nan        nan 0.75977654 0.77281192 0.77094972\n",
      " 0.76722533 0.76722533 0.76908752 0.77281192 0.7858473  0.77467412\n",
      " 0.77653631 0.78026071 0.77281192 0.7858473  0.77467412 0.77653631\n",
      " 0.77094972 0.77467412 0.78212291 0.78026071 0.78957169 0.7858473\n",
      " 0.78026071 0.78957169 0.7858473  0.77839851 0.7839851  0.7858473\n",
      " 0.75977654 0.77281192 0.77094972 0.76722533 0.76722533 0.76908752\n",
      " 0.77281192 0.7858473  0.77467412 0.77653631 0.78026071 0.77281192\n",
      " 0.7858473  0.77467412 0.77653631 0.77094972 0.77467412 0.78212291\n",
      " 0.78026071 0.78957169 0.7858473  0.78026071 0.78957169 0.7858473\n",
      " 0.77839851 0.7839851  0.7858473         nan        nan        nan\n",
      "        nan        nan        nan        nan        nan        nan\n",
      "        nan        nan        nan        nan        nan        nan\n",
      "        nan        nan        nan        nan        nan        nan\n",
      "        nan        nan        nan        nan        nan        nan\n",
      " 0.77839851 0.77653631 0.77467412 0.77094972 0.7839851  0.78026071\n",
      " 0.78212291 0.78957169 0.7839851  0.78957169 0.79143389 0.79143389\n",
      " 0.77467412 0.78026071 0.78026071 0.7858473  0.78026071 0.78212291\n",
      " 0.77839851 0.7858473  0.7858473  0.77839851 0.7858473  0.7858473\n",
      " 0.77839851 0.78026071 0.7839851  0.77839851 0.77653631 0.77467412\n",
      " 0.77094972 0.7839851  0.78026071 0.78212291 0.78957169 0.7839851\n",
      " 0.78957169 0.79143389 0.79143389 0.77467412 0.78026071 0.78026071\n",
      " 0.7858473  0.78026071 0.78212291 0.77839851 0.7858473  0.7858473\n",
      " 0.77839851 0.7858473  0.7858473  0.77839851 0.78026071 0.7839851\n",
      "        nan        nan        nan        nan        nan        nan\n",
      "        nan        nan        nan        nan        nan        nan\n",
      "        nan        nan        nan        nan        nan        nan\n",
      "        nan        nan        nan        nan        nan        nan\n",
      "        nan        nan        nan 0.75791434 0.77281192 0.77094972\n",
      " 0.76722533 0.76722533 0.76908752 0.77281192 0.7858473  0.77467412\n",
      " 0.77653631 0.78026071 0.77281192 0.7858473  0.77467412 0.77653631\n",
      " 0.77094972 0.77467412 0.78212291 0.78026071 0.78957169 0.7858473\n",
      " 0.78026071 0.78957169 0.7858473  0.77839851 0.7839851  0.7858473\n",
      " 0.75791434 0.77281192 0.77094972 0.76722533 0.76722533 0.76908752\n",
      " 0.77281192 0.7858473  0.77467412 0.77653631 0.78026071 0.77281192\n",
      " 0.7858473  0.77467412 0.77653631 0.77094972 0.77467412 0.78212291\n",
      " 0.78026071 0.78957169 0.7858473  0.78026071 0.78957169 0.7858473\n",
      " 0.77839851 0.7839851  0.7858473         nan        nan        nan\n",
      "        nan        nan        nan        nan        nan        nan\n",
      "        nan        nan        nan        nan        nan        nan\n",
      "        nan        nan        nan        nan        nan        nan\n",
      "        nan        nan        nan        nan        nan        nan\n",
      " 0.75977654 0.77281192 0.77094972 0.76722533 0.76722533 0.76908752\n",
      " 0.77281192 0.7858473  0.77467412 0.77653631 0.78026071 0.77281192\n",
      " 0.7858473  0.77467412 0.77653631 0.77094972 0.77467412 0.78212291\n",
      " 0.78026071 0.78957169 0.7858473  0.78026071 0.78957169 0.7858473\n",
      " 0.77839851 0.7839851  0.7858473  0.75977654 0.77281192 0.77094972\n",
      " 0.76722533 0.76722533 0.76908752 0.77281192 0.7858473  0.77467412\n",
      " 0.77653631 0.78026071 0.77281192 0.7858473  0.77467412 0.77653631\n",
      " 0.77094972 0.77467412 0.78212291 0.78026071 0.78957169 0.7858473\n",
      " 0.78026071 0.78957169 0.7858473  0.77839851 0.7839851  0.7858473 ]\n",
      "  warnings.warn(\n"
     ]
    },
    {
     "name": "stdout",
     "output_type": "stream",
     "text": [
      "Best Parameters: {'bootstrap': True, 'max_depth': None, 'max_features': 'sqrt', 'min_samples_leaf': 2, 'min_samples_split': 2, 'n_estimators': 200}\n",
      "Best Score: 0.7914338919925513\n",
      "Test Accuracy: 0.7878787878787878\n"
     ]
    }
   ],
   "source": [
    "import pandas as pd\n",
    "from sklearn.ensemble import RandomForestClassifier\n",
    "from sklearn.model_selection import train_test_split, GridSearchCV\n",
    "from sklearn.metrics import accuracy_score\n",
    "\n",
    "# Veri setinizi X ve y olarak ayırın\n",
    "# Örneğin:\n",
    "# X = df.drop('target_column', axis=1)\n",
    "# y = df['target_column']\n",
    "\n",
    "# Veri setini eğitim ve test olarak ayırma\n",
    "X_train, X_test, y_train, y_test = train_test_split(X, y, test_size=0.30, random_state=17)\n",
    "\n",
    "# Random Forest için hiper parametre grid'i oluşturma\n",
    "param_grid = {\n",
    "    'n_estimators': [50, 100, 200],\n",
    "    'max_features': ['auto', 'sqrt', 'log2'],\n",
    "    'max_depth': [None, 10, 20, 30],\n",
    "    'min_samples_split': [2, 5, 10],\n",
    "    'min_samples_leaf': [1, 2, 4],\n",
    "    'bootstrap': [True, False]\n",
    "}\n",
    "\n",
    "# GridSearchCV ile hiper parametre optimizasyonu\n",
    "rf_model = RandomForestClassifier(random_state=46)\n",
    "grid_search = GridSearchCV(estimator=rf_model, param_grid=param_grid,\n",
    "                           cv=3, n_jobs=-1, verbose=2)\n",
    "grid_search.fit(X_train, y_train)\n",
    "\n",
    "# En iyi hiper parametreleri ve en iyi doğruluk skorunu yazdırma\n",
    "print(\"Best Parameters:\", grid_search.best_params_)\n",
    "print(\"Best Score:\", grid_search.best_score_)\n",
    "\n",
    "# En iyi modeli kullanarak tahmin yapma\n",
    "best_rf_model = grid_search.best_estimator_\n",
    "y_pred = best_rf_model.predict(X_test)\n",
    "\n",
    "# Test setindeki doğruluk skorunu hesaplama\n",
    "accuracy = accuracy_score(y_pred, y_test)\n",
    "print(\"Test Accuracy:\", accuracy)\n"
   ]
  },
  {
   "cell_type": "code",
   "execution_count": null,
   "id": "454197d5-f9de-4f8a-bbf5-35e2cd83979e",
   "metadata": {},
   "outputs": [],
   "source": []
  },
  {
   "cell_type": "code",
   "execution_count": null,
   "id": "eb7e91d7-83c6-4d07-ab81-6dd9d84ad3ea",
   "metadata": {},
   "outputs": [],
   "source": []
  },
  {
   "cell_type": "code",
   "execution_count": null,
   "id": "0ae62af1-b27a-4618-a855-bdf715beb7a2",
   "metadata": {},
   "outputs": [],
   "source": []
  },
  {
   "cell_type": "code",
   "execution_count": null,
   "id": "c914d8dc-70f9-479e-a431-b2228f186dee",
   "metadata": {},
   "outputs": [],
   "source": []
  }
 ],
 "metadata": {
  "kernelspec": {
   "display_name": "Python 3 (ipykernel)",
   "language": "python",
   "name": "python3"
  },
  "language_info": {
   "codemirror_mode": {
    "name": "ipython",
    "version": 3
   },
   "file_extension": ".py",
   "mimetype": "text/x-python",
   "name": "python",
   "nbconvert_exporter": "python",
   "pygments_lexer": "ipython3",
   "version": "3.12.4"
  }
 },
 "nbformat": 4,
 "nbformat_minor": 5
}
